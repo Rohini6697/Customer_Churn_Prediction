{
 "cells": [
  {
   "cell_type": "markdown",
   "id": "2b1e7b77-8d22-4a35-bf22-cbfb455d8992",
   "metadata": {},
   "source": [
    "# ANN Classification model to predict the Customer Churn of different customers."
   ]
  },
  {
   "cell_type": "code",
   "execution_count": null,
   "id": "13a2c0d4-aa7a-44dc-b1b1-43fd049306ba",
   "metadata": {},
   "outputs": [],
   "source": [
    "import numpy as np\n",
    "import pandas as pd\n",
    "import tensorflow as tf\n",
    "url = \"C:\\\\Users\\\\rohini\\\\Documents\\\\ai_learn\\\\python_learn\\\\Assignment\\\\Assignment_1\\\\Churn_Modelling.csv\"\n",
    "df = pd.read_csv(url)\n",
    "df"
   ]
  }
 ],
 "metadata": {
  "kernelspec": {
   "display_name": "Python 3 (ipykernel)",
   "language": "python",
   "name": "python3"
  },
  "language_info": {
   "codemirror_mode": {
    "name": "ipython",
    "version": 3
   },
   "file_extension": ".py",
   "mimetype": "text/x-python",
   "name": "python",
   "nbconvert_exporter": "python",
   "pygments_lexer": "ipython3",
   "version": "3.12.4"
  }
 },
 "nbformat": 4,
 "nbformat_minor": 5
}
